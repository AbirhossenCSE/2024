{
  "nbformat": 4,
  "nbformat_minor": 0,
  "metadata": {
    "colab": {
      "provenance": []
    },
    "kernelspec": {
      "name": "python3",
      "display_name": "Python 3"
    },
    "language_info": {
      "name": "python"
    }
  },
  "cells": [
    {
      "cell_type": "code",
      "source": [
        "from google.colab import drive\n",
        "from PIL import Image\n",
        "import os\n",
        "\n",
        "# Mount Google Drive\n",
        "drive.mount('/content/drive')\n",
        "\n",
        "# Define input and output directories\n",
        "input_dir = \"/content/drive/MyDrive/DIP/data/Blight\"\n",
        "output_dir = \"/content/drive/MyDrive/DIP/Resize Image/Blight\"\n",
        "\n",
        "# Create the output directory if it doesn't exist\n",
        "os.makedirs(output_dir, exist_ok=True)\n",
        "\n",
        "# Define target size for resizing\n",
        "target_size = (224, 224)  # Change this to your desired size\n",
        "\n",
        "# Iterate over each file in the input directory\n",
        "for filename in os.listdir(input_dir):\n",
        "    if filename.endswith((\".jpg\", \".png\", \".jpeg\")):  # Adjust file extensions as needed\n",
        "        # Open the image\n",
        "        img = Image.open(os.path.join(input_dir, filename))\n",
        "        # Resize the image\n",
        "        img_resized = img.resize(target_size, Image.ANTIALIAS)\n",
        "        # Save the resized image to the output directory\n",
        "        img_resized.save(os.path.join(output_dir, filename))\n"
      ],
      "metadata": {
        "id": "xxcn3g81bIH7",
        "colab": {
          "base_uri": "https://localhost:8080/"
        },
        "outputId": "4c1b05fd-a064-42ce-d5ed-7a6f9547f486"
      },
      "execution_count": null,
      "outputs": [
        {
          "output_type": "stream",
          "name": "stdout",
          "text": [
            "Mounted at /content/drive\n"
          ]
        },
        {
          "output_type": "stream",
          "name": "stderr",
          "text": [
            "<ipython-input-1-84705bc23d89>:24: DeprecationWarning: ANTIALIAS is deprecated and will be removed in Pillow 10 (2023-07-01). Use LANCZOS or Resampling.LANCZOS instead.\n",
            "  img_resized = img.resize(target_size, Image.ANTIALIAS)\n"
          ]
        }
      ]
    },
    {
      "cell_type": "code",
      "source": [
        "from google.colab import drive\n",
        "from PIL import Image\n",
        "import os\n",
        "\n",
        "# Mount Google Drive\n",
        "drive.mount('/content/drive')\n",
        "\n",
        "# Define input and output directories\n",
        "input_dir = \"/content/drive/MyDrive/DIP/data/Common_Rust\"\n",
        "output_dir = \"/content/drive/MyDrive/DIP/Resize Image/Common_Rust\"\n",
        "\n",
        "# Create the output directory if it doesn't exist\n",
        "os.makedirs(output_dir, exist_ok=True)\n",
        "\n",
        "# Define target size for resizing\n",
        "target_size = (224, 224)  # Change this to your desired size\n",
        "\n",
        "# Iterate over each file in the input directory\n",
        "for filename in os.listdir(input_dir):\n",
        "    if filename.endswith((\".jpg\", \".png\", \".jpeg\")):  # Adjust file extensions as needed\n",
        "        # Open the image\n",
        "        img = Image.open(os.path.join(input_dir, filename))\n",
        "        # Resize the image\n",
        "        img_resized = img.resize(target_size, Image.ANTIALIAS)\n",
        "        # Save the resized image to the output directory\n",
        "        img_resized.save(os.path.join(output_dir, filename))"
      ],
      "metadata": {
        "colab": {
          "base_uri": "https://localhost:8080/"
        },
        "id": "8zgF_1vRrDjy",
        "outputId": "eef44c1a-8a0d-43c8-bee8-5f19054f9ea9"
      },
      "execution_count": null,
      "outputs": [
        {
          "output_type": "stream",
          "name": "stdout",
          "text": [
            "Drive already mounted at /content/drive; to attempt to forcibly remount, call drive.mount(\"/content/drive\", force_remount=True).\n"
          ]
        },
        {
          "output_type": "stream",
          "name": "stderr",
          "text": [
            "<ipython-input-2-0d0b64cf2336>:24: DeprecationWarning: ANTIALIAS is deprecated and will be removed in Pillow 10 (2023-07-01). Use LANCZOS or Resampling.LANCZOS instead.\n",
            "  img_resized = img.resize(target_size, Image.ANTIALIAS)\n"
          ]
        }
      ]
    },
    {
      "cell_type": "code",
      "source": [
        "from google.colab import drive\n",
        "from PIL import Image\n",
        "import os\n",
        "\n",
        "# Define input and output directories\n",
        "input_dir = \"/content/drive/MyDrive/DIP/data/Gray_Leaf_Spot\"\n",
        "output_dir = \"/content/drive/MyDrive/DIP/Resize Image/Gray_Leaf_Spot\"\n",
        "\n",
        "# Create the output directory if it doesn't exist\n",
        "os.makedirs(output_dir, exist_ok=True)\n",
        "\n",
        "# Define target size for resizing\n",
        "target_size = (224, 224)  # Change this to your desired size\n",
        "\n",
        "# Iterate over each file in the input directory\n",
        "for filename in os.listdir(input_dir):\n",
        "    if filename.endswith((\".jpg\", \".png\", \".jpeg\")):\n",
        "        # Open the image\n",
        "        img = Image.open(os.path.join(input_dir, filename))\n",
        "\n",
        "        # Convert RGBA to RGB mode if necessary\n",
        "        if img.mode == 'RGBA':\n",
        "            img = img.convert('RGB')\n",
        "\n",
        "        # Resize the image\n",
        "        img_resized = img.resize(target_size, Image.ANTIALIAS)\n",
        "\n",
        "        # Save the resized image to the output directory\n",
        "        img_resized.save(os.path.join(output_dir, filename))\n"
      ],
      "metadata": {
        "colab": {
          "base_uri": "https://localhost:8080/"
        },
        "id": "EhhyZaN6rxgV",
        "outputId": "cd3c5318-e167-407d-8060-11dc50e31a29"
      },
      "execution_count": null,
      "outputs": [
        {
          "output_type": "stream",
          "name": "stderr",
          "text": [
            "<ipython-input-7-47044f63eb40>:26: DeprecationWarning: ANTIALIAS is deprecated and will be removed in Pillow 10 (2023-07-01). Use LANCZOS or Resampling.LANCZOS instead.\n",
            "  img_resized = img.resize(target_size, Image.ANTIALIAS)\n"
          ]
        }
      ]
    },
    {
      "cell_type": "code",
      "source": [
        "from google.colab import drive\n",
        "from PIL import Image\n",
        "import os\n",
        "\n",
        "# Define input and output directories\n",
        "input_dir = \"/content/drive/MyDrive/DIP/data/Healthy\"\n",
        "output_dir = \"/content/drive/MyDrive/DIP/Resize Image/Healthy\"\n",
        "\n",
        "# Create the output directory if it doesn't exist\n",
        "os.makedirs(output_dir, exist_ok=True)\n",
        "\n",
        "# Define target size for resizing\n",
        "target_size = (224, 224)  # Change this to your desired size\n",
        "\n",
        "# Iterate over each file in the input directory\n",
        "for filename in os.listdir(input_dir):\n",
        "    if filename.endswith((\".jpg\", \".png\", \".jpeg\")):\n",
        "        # Open the image\n",
        "        img = Image.open(os.path.join(input_dir, filename))\n",
        "\n",
        "        # Convert RGBA to RGB mode if necessary\n",
        "        if img.mode == 'RGBA':\n",
        "            img = img.convert('RGB')\n",
        "\n",
        "        # Resize the image\n",
        "        img_resized = img.resize(target_size, Image.ANTIALIAS)\n",
        "\n",
        "        # Save the resized image to the output directory\n",
        "        img_resized.save(os.path.join(output_dir, filename))\n"
      ],
      "metadata": {
        "colab": {
          "base_uri": "https://localhost:8080/"
        },
        "id": "6l3vy90gthJg",
        "outputId": "1f886639-16fe-46a7-917b-05ce91401697"
      },
      "execution_count": null,
      "outputs": [
        {
          "output_type": "stream",
          "name": "stderr",
          "text": [
            "<ipython-input-8-f8d789e4a060>:26: DeprecationWarning: ANTIALIAS is deprecated and will be removed in Pillow 10 (2023-07-01). Use LANCZOS or Resampling.LANCZOS instead.\n",
            "  img_resized = img.resize(target_size, Image.ANTIALIAS)\n"
          ]
        }
      ]
    },
    {
      "cell_type": "code",
      "source": [
        "import tensorflow as tf\n",
        "from tensorflow.keras.preprocessing.image import ImageDataGenerator\n",
        "from tensorflow.keras.applications import MobileNetV2\n",
        "from tensorflow.keras.layers import GlobalAveragePooling2D, Dense\n",
        "from tensorflow.keras.models import Model\n",
        "\n",
        "# Mount Google Drive\n",
        "from google.colab import drive\n",
        "drive.mount('/content/drive')\n",
        "\n",
        "# Define data directories\n",
        "train_dir = \"/content/drive/MyDrive/DIP/Train\"\n",
        "test_dir = \"/content/drive/MyDrive/DIP/Test\"\n",
        "\n",
        "# Image dimensions\n",
        "img_height, img_width = 224, 224\n",
        "batch_size = 32\n",
        "\n",
        "# Data augmentation and preprocessing\n",
        "train_datagen = ImageDataGenerator(\n",
        "    rescale=1./255,\n",
        "    rotation_range=20,\n",
        "    width_shift_range=0.2,\n",
        "    height_shift_range=0.2,\n",
        "    shear_range=0.2,\n",
        "    zoom_range=0.2,\n",
        "    horizontal_flip=True,\n",
        "    fill_mode='nearest'\n",
        ")\n",
        "\n",
        "test_datagen = ImageDataGenerator(rescale=1./255)\n",
        "\n",
        "# Load and augment training data\n",
        "train_generator = train_datagen.flow_from_directory(\n",
        "    train_dir,\n",
        "    target_size=(img_height, img_width),\n",
        "    batch_size=batch_size,\n",
        "    class_mode='categorical'\n",
        ")\n",
        "\n",
        "# Load test data\n",
        "test_generator = test_datagen.flow_from_directory(\n",
        "    test_dir,\n",
        "    target_size=(img_height, img_width),\n",
        "    batch_size=batch_size,\n",
        "    class_mode='categorical'\n",
        ")\n",
        "\n",
        "# Load pre-trained MobileNetV2 model\n",
        "base_model = MobileNetV2(input_shape=(img_height, img_width, 3), include_top=False, weights='imagenet')\n",
        "\n",
        "# Add custom classification head\n",
        "x = GlobalAveragePooling2D()(base_model.output)\n",
        "x = Dense(512, activation='relu')(x)\n",
        "output = Dense(train_generator.num_classes, activation='softmax')(x)  # Adjusted to dynamically get number of classes\n",
        "\n",
        "# Create model\n",
        "model = Model(inputs=base_model.input, outputs=output)\n",
        "\n",
        "# Freeze base layers\n",
        "for layer in base_model.layers:\n",
        "    layer.trainable = False\n",
        "\n",
        "# Compile the model\n",
        "model.compile(optimizer='adam', loss='categorical_crossentropy', metrics=['accuracy'])\n",
        "\n",
        "# Train the model\n",
        "model.fit(train_generator, epochs=10, validation_data=test_generator)\n",
        "\n",
        "# Evaluate the model\n",
        "test_loss, test_acc = model.evaluate(test_generator)\n",
        "print(\"Test Accuracy:\", test_acc)\n"
      ],
      "metadata": {
        "colab": {
          "base_uri": "https://localhost:8080/"
        },
        "id": "BpbsCLQyQOt6",
        "outputId": "b920b49d-4747-4a0b-b94e-07a395474fe7"
      },
      "execution_count": null,
      "outputs": [
        {
          "output_type": "stream",
          "name": "stdout",
          "text": [
            "Drive already mounted at /content/drive; to attempt to forcibly remount, call drive.mount(\"/content/drive\", force_remount=True).\n",
            "Found 1280 images belonging to 4 classes.\n",
            "Found 160 images belonging to 4 classes.\n",
            "Downloading data from https://storage.googleapis.com/tensorflow/keras-applications/mobilenet_v2/mobilenet_v2_weights_tf_dim_ordering_tf_kernels_1.0_224_no_top.h5\n",
            "9406464/9406464 [==============================] - 0s 0us/step\n",
            "Epoch 1/10\n",
            "40/40 [==============================] - 350s 9s/step - loss: 0.5975 - accuracy: 0.7023 - val_loss: 0.8011 - val_accuracy: 0.6812\n",
            "Epoch 2/10\n",
            "40/40 [==============================] - 81s 2s/step - loss: 0.4523 - accuracy: 0.7430 - val_loss: 0.4456 - val_accuracy: 0.7437\n",
            "Epoch 3/10\n",
            "40/40 [==============================] - 76s 2s/step - loss: 0.4107 - accuracy: 0.7719 - val_loss: 0.4780 - val_accuracy: 0.7125\n",
            "Epoch 4/10\n",
            "40/40 [==============================] - 76s 2s/step - loss: 0.3759 - accuracy: 0.7992 - val_loss: 0.5669 - val_accuracy: 0.7312\n",
            "Epoch 5/10\n",
            "40/40 [==============================] - 79s 2s/step - loss: 0.3942 - accuracy: 0.7734 - val_loss: 0.5737 - val_accuracy: 0.7000\n",
            "Epoch 6/10\n",
            "40/40 [==============================] - 78s 2s/step - loss: 0.3569 - accuracy: 0.8031 - val_loss: 0.5352 - val_accuracy: 0.7250\n",
            "Epoch 7/10\n",
            "40/40 [==============================] - 75s 2s/step - loss: 0.3642 - accuracy: 0.7898 - val_loss: 0.5129 - val_accuracy: 0.7125\n",
            "Epoch 8/10\n",
            "40/40 [==============================] - 76s 2s/step - loss: 0.3473 - accuracy: 0.8094 - val_loss: 0.4926 - val_accuracy: 0.7188\n",
            "Epoch 9/10\n",
            "40/40 [==============================] - 75s 2s/step - loss: 0.3238 - accuracy: 0.8273 - val_loss: 0.4815 - val_accuracy: 0.7375\n",
            "Epoch 10/10\n",
            "40/40 [==============================] - 83s 2s/step - loss: 0.3364 - accuracy: 0.8156 - val_loss: 0.5090 - val_accuracy: 0.7250\n",
            "5/5 [==============================] - 6s 1s/step - loss: 0.5090 - accuracy: 0.7250\n",
            "Test Accuracy: 0.7250000238418579\n"
          ]
        }
      ]
    }
  ]
}