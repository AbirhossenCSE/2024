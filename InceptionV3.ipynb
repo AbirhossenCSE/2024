{
  "nbformat": 4,
  "nbformat_minor": 0,
  "metadata": {
    "colab": {
      "provenance": []
    },
    "kernelspec": {
      "name": "python3",
      "display_name": "Python 3"
    },
    "language_info": {
      "name": "python"
    }
  },
  "cells": [
    {
      "cell_type": "code",
      "execution_count": null,
      "metadata": {
        "id": "rDWRzZDeBDAm",
        "colab": {
          "base_uri": "https://localhost:8080/"
        },
        "outputId": "24d2b4b1-4c0a-48b8-d99e-98121428a7cf"
      },
      "outputs": [
        {
          "output_type": "stream",
          "name": "stdout",
          "text": [
            "Drive already mounted at /content/drive; to attempt to forcibly remount, call drive.mount(\"/content/drive\", force_remount=True).\n",
            "Found 1280 images belonging to 4 classes.\n",
            "Found 160 images belonging to 4 classes.\n",
            "Downloading data from https://storage.googleapis.com/tensorflow/keras-applications/inception_v3/inception_v3_weights_tf_dim_ordering_tf_kernels_notop.h5\n",
            "87910968/87910968 [==============================] - 1s 0us/step\n",
            "Epoch 1/10\n",
            "40/40 [==============================] - 487s 12s/step - loss: 1.0584 - accuracy: 0.5938 - val_loss: 0.8609 - val_accuracy: 0.6750\n",
            "Epoch 2/10\n",
            "40/40 [==============================] - 181s 5s/step - loss: 0.5404 - accuracy: 0.7328 - val_loss: 0.5457 - val_accuracy: 0.6562\n",
            "Epoch 3/10\n",
            "40/40 [==============================] - 189s 5s/step - loss: 0.4402 - accuracy: 0.7609 - val_loss: 0.5113 - val_accuracy: 0.7250\n",
            "Epoch 4/10\n",
            "40/40 [==============================] - 179s 4s/step - loss: 0.4266 - accuracy: 0.7734 - val_loss: 0.5333 - val_accuracy: 0.6812\n",
            "Epoch 5/10\n",
            "40/40 [==============================] - 181s 5s/step - loss: 0.4278 - accuracy: 0.7727 - val_loss: 0.4914 - val_accuracy: 0.6938\n",
            "Epoch 6/10\n",
            "40/40 [==============================] - 186s 5s/step - loss: 0.4094 - accuracy: 0.7734 - val_loss: 0.5076 - val_accuracy: 0.7125\n",
            "Epoch 7/10\n",
            "40/40 [==============================] - 179s 4s/step - loss: 0.3883 - accuracy: 0.7930 - val_loss: 0.4959 - val_accuracy: 0.6812\n",
            "Epoch 8/10\n",
            "40/40 [==============================] - 178s 4s/step - loss: 0.3965 - accuracy: 0.7805 - val_loss: 0.5038 - val_accuracy: 0.6875\n",
            "Epoch 9/10\n",
            "40/40 [==============================] - 187s 5s/step - loss: 0.3862 - accuracy: 0.7844 - val_loss: 0.4606 - val_accuracy: 0.7125\n",
            "Epoch 10/10\n",
            "40/40 [==============================] - 180s 4s/step - loss: 0.3759 - accuracy: 0.7883 - val_loss: 0.4341 - val_accuracy: 0.7250\n",
            "5/5 [==============================] - 19s 4s/step - loss: 0.4341 - accuracy: 0.7250\n",
            "Test Accuracy: 0.7250000238418579\n"
          ]
        }
      ],
      "source": [
        "import tensorflow as tf\n",
        "from tensorflow.keras.preprocessing.image import ImageDataGenerator\n",
        "from tensorflow.keras.applications import InceptionV3\n",
        "from tensorflow.keras.layers import GlobalAveragePooling2D, Dense\n",
        "from tensorflow.keras.models import Model\n",
        "\n",
        "# Mount Google Drive\n",
        "from google.colab import drive\n",
        "drive.mount('/content/drive')\n",
        "\n",
        "# Define data directories\n",
        "train_dir = \"/content/drive/MyDrive/DIP/Train\"\n",
        "test_dir = \"/content/drive/MyDrive/DIP/Test\"\n",
        "\n",
        "# Image dimensions\n",
        "img_height, img_width = 224, 224\n",
        "batch_size = 32\n",
        "\n",
        "# Data augmentation and preprocessing\n",
        "train_datagen = ImageDataGenerator(\n",
        "    rescale=1./255,\n",
        "    rotation_range=20,\n",
        "    width_shift_range=0.2,\n",
        "    height_shift_range=0.2,\n",
        "    shear_range=0.2,\n",
        "    zoom_range=0.2,\n",
        "    horizontal_flip=True,\n",
        "    fill_mode='nearest'\n",
        ")\n",
        "\n",
        "test_datagen = ImageDataGenerator(rescale=1./255)\n",
        "\n",
        "# Load and augment training data\n",
        "train_generator = train_datagen.flow_from_directory(\n",
        "    train_dir,\n",
        "    target_size=(img_height, img_width),\n",
        "    batch_size=batch_size,\n",
        "    class_mode='categorical'\n",
        ")\n",
        "\n",
        "# Load test data\n",
        "test_generator = test_datagen.flow_from_directory(\n",
        "    test_dir,\n",
        "    target_size=(img_height, img_width),\n",
        "    batch_size=batch_size,\n",
        "    class_mode='categorical'\n",
        ")\n",
        "\n",
        "# Load pre-trained InceptionV3 model\n",
        "base_model = InceptionV3(input_shape=(img_height, img_width, 3), include_top=False, weights='imagenet')\n",
        "\n",
        "# Add custom classification head\n",
        "x = GlobalAveragePooling2D()(base_model.output)\n",
        "x = Dense(512, activation='relu')(x)\n",
        "output = Dense(train_generator.num_classes, activation='softmax')(x)  # Adjusted to dynamically get number of classes\n",
        "\n",
        "# Create model\n",
        "model = Model(inputs=base_model.input, outputs=output)\n",
        "\n",
        "# Freeze base layers\n",
        "for layer in base_model.layers:\n",
        "    layer.trainable = False\n",
        "\n",
        "# Compile the model\n",
        "model.compile(optimizer='adam', loss='categorical_crossentropy', metrics=['accuracy'])\n",
        "\n",
        "# Train the model\n",
        "model.fit(train_generator, epochs=10, validation_data=test_generator)\n",
        "\n",
        "# Evaluate the model\n",
        "test_loss, test_acc = model.evaluate(test_generator)\n",
        "print(\"Test Accuracy:\", test_acc)\n"
      ]
    }
  ]
}