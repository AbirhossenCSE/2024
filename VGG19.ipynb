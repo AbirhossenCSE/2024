{
  "nbformat": 4,
  "nbformat_minor": 0,
  "metadata": {
    "colab": {
      "provenance": []
    },
    "kernelspec": {
      "name": "python3",
      "display_name": "Python 3"
    },
    "language_info": {
      "name": "python"
    }
  },
  "cells": [
    {
      "cell_type": "code",
      "execution_count": null,
      "metadata": {
        "colab": {
          "base_uri": "https://localhost:8080/"
        },
        "id": "02kpoPV2RZq7",
        "outputId": "6c8e8b69-805e-4472-a946-d719152fdbc8"
      },
      "outputs": [
        {
          "output_type": "stream",
          "name": "stdout",
          "text": [
            "Drive already mounted at /content/drive; to attempt to forcibly remount, call drive.mount(\"/content/drive\", force_remount=True).\n",
            "Found 1280 images belonging to 4 classes.\n",
            "Found 160 images belonging to 4 classes.\n",
            "Downloading data from https://storage.googleapis.com/tensorflow/keras-applications/vgg19/vgg19_weights_tf_dim_ordering_tf_kernels_notop.h5\n",
            "80134624/80134624 [==============================] - 1s 0us/step\n",
            "Epoch 1/10\n",
            "40/40 [==============================] - 1061s 26s/step - loss: 0.9314 - accuracy: 0.5930 - val_loss: 0.6211 - val_accuracy: 0.6875\n",
            "Epoch 2/10\n",
            "40/40 [==============================] - 1029s 26s/step - loss: 0.6162 - accuracy: 0.7023 - val_loss: 0.5348 - val_accuracy: 0.7063\n",
            "Epoch 3/10\n",
            "40/40 [==============================] - 994s 25s/step - loss: 0.5841 - accuracy: 0.7133 - val_loss: 0.5811 - val_accuracy: 0.7000\n",
            "Epoch 4/10\n",
            "40/40 [==============================] - 994s 25s/step - loss: 0.5159 - accuracy: 0.7133 - val_loss: 0.4951 - val_accuracy: 0.6812\n",
            "Epoch 5/10\n",
            "40/40 [==============================] - 992s 25s/step - loss: 0.5049 - accuracy: 0.7320 - val_loss: 0.4995 - val_accuracy: 0.7188\n",
            "Epoch 6/10\n",
            "40/40 [==============================] - 994s 25s/step - loss: 0.4778 - accuracy: 0.7516 - val_loss: 0.5505 - val_accuracy: 0.7000\n",
            "Epoch 7/10\n",
            "40/40 [==============================] - 1027s 26s/step - loss: 0.4775 - accuracy: 0.7320 - val_loss: 0.4899 - val_accuracy: 0.7063\n",
            "Epoch 8/10\n",
            "40/40 [==============================] - 1028s 26s/step - loss: 0.4668 - accuracy: 0.7227 - val_loss: 0.4750 - val_accuracy: 0.6750\n",
            "Epoch 9/10\n",
            "40/40 [==============================] - 1027s 26s/step - loss: 0.4879 - accuracy: 0.7219 - val_loss: 0.4700 - val_accuracy: 0.7188\n",
            "Epoch 10/10\n",
            "40/40 [==============================] - 1029s 26s/step - loss: 0.4549 - accuracy: 0.7445 - val_loss: 0.4689 - val_accuracy: 0.6938\n",
            "5/5 [==============================] - 108s 22s/step - loss: 0.4689 - accuracy: 0.6938\n",
            "Test Accuracy: 0.6937500238418579\n"
          ]
        }
      ],
      "source": [
        "import tensorflow as tf\n",
        "from tensorflow.keras.preprocessing.image import ImageDataGenerator\n",
        "from tensorflow.keras.applications import VGG19\n",
        "from tensorflow.keras.layers import GlobalAveragePooling2D, Dense\n",
        "from tensorflow.keras.models import Model\n",
        "\n",
        "# Mount Google Drive\n",
        "from google.colab import drive\n",
        "drive.mount('/content/drive')\n",
        "\n",
        "# Define data directories\n",
        "train_dir = \"/content/drive/MyDrive/DIP/Train\"\n",
        "test_dir = \"/content/drive/MyDrive/DIP/Test\"\n",
        "\n",
        "# Image dimensions\n",
        "img_height, img_width = 224, 224\n",
        "batch_size = 32\n",
        "\n",
        "# Data augmentation and preprocessing\n",
        "train_datagen = ImageDataGenerator(\n",
        "    rescale=1./255,\n",
        "    rotation_range=20,\n",
        "    width_shift_range=0.2,\n",
        "    height_shift_range=0.2,\n",
        "    shear_range=0.2,\n",
        "    zoom_range=0.2,\n",
        "    horizontal_flip=True,\n",
        "    fill_mode='nearest'\n",
        ")\n",
        "\n",
        "test_datagen = ImageDataGenerator(rescale=1./255)\n",
        "\n",
        "# Load and augment training data\n",
        "train_generator = train_datagen.flow_from_directory(\n",
        "    train_dir,\n",
        "    target_size=(img_height, img_width),\n",
        "    batch_size=batch_size,\n",
        "    class_mode='categorical'\n",
        ")\n",
        "\n",
        "# Load test data\n",
        "test_generator = test_datagen.flow_from_directory(\n",
        "    test_dir,\n",
        "    target_size=(img_height, img_width),\n",
        "    batch_size=batch_size,\n",
        "    class_mode='categorical'\n",
        ")\n",
        "\n",
        "# Load pre-trained VGG19 model\n",
        "base_model = VGG19(input_shape=(img_height, img_width, 3), include_top=False, weights='imagenet')\n",
        "\n",
        "# Add custom classification head\n",
        "x = GlobalAveragePooling2D()(base_model.output)\n",
        "x = Dense(512, activation='relu')(x)\n",
        "output = Dense(train_generator.num_classes, activation='softmax')(x)  # Adjusted to dynamically get number of classes\n",
        "\n",
        "# Create model\n",
        "model = Model(inputs=base_model.input, outputs=output)\n",
        "\n",
        "# Freeze base layers\n",
        "for layer in base_model.layers:\n",
        "    layer.trainable = False\n",
        "\n",
        "# Compile the model\n",
        "model.compile(optimizer='adam', loss='categorical_crossentropy', metrics=['accuracy'])\n",
        "\n",
        "# Train the model\n",
        "model.fit(train_generator, epochs=10, validation_data=test_generator)\n",
        "\n",
        "# Evaluate the model\n",
        "test_loss, test_acc = model.evaluate(test_generator)\n",
        "print(\"Test Accuracy:\", test_acc)\n"
      ]
    }
  ]
}