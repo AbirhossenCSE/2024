{
  "nbformat": 4,
  "nbformat_minor": 0,
  "metadata": {
    "colab": {
      "provenance": []
    },
    "kernelspec": {
      "name": "python3",
      "display_name": "Python 3"
    },
    "language_info": {
      "name": "python"
    }
  },
  "cells": [
    {
      "cell_type": "code",
      "execution_count": null,
      "metadata": {
        "id": "09Sw4AI_SnVR",
        "colab": {
          "base_uri": "https://localhost:8080/"
        },
        "outputId": "237210ea-4e5e-462d-f49d-995fa50aff9b"
      },
      "outputs": [
        {
          "output_type": "stream",
          "name": "stdout",
          "text": [
            "Drive already mounted at /content/drive; to attempt to forcibly remount, call drive.mount(\"/content/drive\", force_remount=True).\n",
            "Found 1280 images belonging to 4 classes.\n",
            "Found 160 images belonging to 4 classes.\n",
            "Downloading data from https://storage.googleapis.com/tensorflow/keras-applications/vgg16/vgg16_weights_tf_dim_ordering_tf_kernels_notop.h5\n",
            "58889256/58889256 [==============================] - 0s 0us/step\n",
            "Epoch 1/10\n",
            "40/40 [==============================] - 996s 25s/step - loss: 0.9253 - accuracy: 0.5813 - val_loss: 0.6081 - val_accuracy: 0.6938\n",
            "Epoch 2/10\n",
            "40/40 [==============================] - 974s 24s/step - loss: 0.5832 - accuracy: 0.6992 - val_loss: 0.5244 - val_accuracy: 0.7375\n",
            "Epoch 3/10\n",
            "40/40 [==============================] - 971s 24s/step - loss: 0.5250 - accuracy: 0.7266 - val_loss: 0.4893 - val_accuracy: 0.7000\n",
            "Epoch 4/10\n",
            "40/40 [==============================] - 921s 23s/step - loss: 0.5127 - accuracy: 0.7156 - val_loss: 0.5465 - val_accuracy: 0.6687\n",
            "Epoch 5/10\n",
            "40/40 [==============================] - 960s 24s/step - loss: 0.4804 - accuracy: 0.7391 - val_loss: 0.4622 - val_accuracy: 0.7250\n",
            "Epoch 6/10\n",
            "40/40 [==============================] - 972s 24s/step - loss: 0.4588 - accuracy: 0.7336 - val_loss: 0.4980 - val_accuracy: 0.7063\n",
            "Epoch 7/10\n",
            "40/40 [==============================] - 929s 23s/step - loss: 0.4474 - accuracy: 0.7555 - val_loss: 0.4931 - val_accuracy: 0.6812\n",
            "Epoch 8/10\n",
            "40/40 [==============================] - 965s 24s/step - loss: 0.4317 - accuracy: 0.7563 - val_loss: 0.4543 - val_accuracy: 0.7500\n",
            "Epoch 9/10\n",
            "40/40 [==============================] - 970s 24s/step - loss: 0.4175 - accuracy: 0.7703 - val_loss: 0.4408 - val_accuracy: 0.7625\n",
            "Epoch 10/10\n",
            "40/40 [==============================] - 975s 24s/step - loss: 0.4346 - accuracy: 0.7688 - val_loss: 0.4756 - val_accuracy: 0.7250\n",
            "5/5 [==============================] - 100s 20s/step - loss: 0.4756 - accuracy: 0.7250\n",
            "Test Accuracy: 0.7250000238418579\n"
          ]
        }
      ],
      "source": [
        "import tensorflow as tf\n",
        "from tensorflow.keras.preprocessing.image import ImageDataGenerator\n",
        "from tensorflow.keras.applications import VGG16\n",
        "from tensorflow.keras.layers import GlobalAveragePooling2D, Dense\n",
        "from tensorflow.keras.models import Model\n",
        "\n",
        "# Mount Google Drive\n",
        "from google.colab import drive\n",
        "drive.mount('/content/drive')\n",
        "\n",
        "# Define data directories\n",
        "train_dir = \"/content/drive/MyDrive/DIP/Train\"\n",
        "test_dir = \"/content/drive/MyDrive/DIP/Test\"\n",
        "\n",
        "# Image dimensions\n",
        "img_height, img_width = 224, 224\n",
        "batch_size = 32\n",
        "\n",
        "# Data augmentation and preprocessing\n",
        "train_datagen = ImageDataGenerator(\n",
        "    rescale=1./255,\n",
        "    rotation_range=20,\n",
        "    width_shift_range=0.2,\n",
        "    height_shift_range=0.2,\n",
        "    shear_range=0.2,\n",
        "    zoom_range=0.2,\n",
        "    horizontal_flip=True,\n",
        "    fill_mode='nearest'\n",
        ")\n",
        "\n",
        "test_datagen = ImageDataGenerator(rescale=1./255)\n",
        "\n",
        "# Load and augment training data\n",
        "train_generator = train_datagen.flow_from_directory(\n",
        "    train_dir,\n",
        "    target_size=(img_height, img_width),\n",
        "    batch_size=batch_size,\n",
        "    class_mode='categorical'\n",
        ")\n",
        "\n",
        "# Load test data\n",
        "test_generator = test_datagen.flow_from_directory(\n",
        "    test_dir,\n",
        "    target_size=(img_height, img_width),\n",
        "    batch_size=batch_size,\n",
        "    class_mode='categorical'\n",
        ")\n",
        "\n",
        "# Load pre-trained VGG16 model\n",
        "base_model = VGG16(input_shape=(img_height, img_width, 3), include_top=False, weights='imagenet')\n",
        "\n",
        "# Add custom classification head\n",
        "x = GlobalAveragePooling2D()(base_model.output)\n",
        "x = Dense(512, activation='relu')(x)\n",
        "output = Dense(train_generator.num_classes, activation='softmax')(x)  # Adjusted to dynamically get number of classes\n",
        "\n",
        "# Create model\n",
        "model = Model(inputs=base_model.input, outputs=output)\n",
        "\n",
        "# Freeze base layers\n",
        "for layer in base_model.layers:\n",
        "    layer.trainable = False\n",
        "\n",
        "# Compile the model\n",
        "model.compile(optimizer='adam', loss='categorical_crossentropy', metrics=['accuracy'])\n",
        "\n",
        "# Train the model\n",
        "model.fit(train_generator, epochs=10, validation_data=test_generator)\n",
        "\n",
        "# Evaluate the model\n",
        "test_loss, test_acc = model.evaluate(test_generator)\n",
        "print(\"Test Accuracy:\", test_acc)\n"
      ]
    }
  ]
}